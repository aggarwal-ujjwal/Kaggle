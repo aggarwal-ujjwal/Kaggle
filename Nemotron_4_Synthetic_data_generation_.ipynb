{
  "nbformat": 4,
  "nbformat_minor": 0,
  "metadata": {
    "colab": {
      "provenance": [],
      "authorship_tag": "ABX9TyMiJ+ylMQnXcdnRz2xQPY6F",
      "include_colab_link": true
    },
    "kernelspec": {
      "name": "python3",
      "display_name": "Python 3"
    },
    "language_info": {
      "name": "python"
    }
  },
  "cells": [
    {
      "cell_type": "markdown",
      "metadata": {
        "id": "view-in-github",
        "colab_type": "text"
      },
      "source": [
        "<a href=\"https://colab.research.google.com/github/aggarwal-ujjwal/Kaggle/blob/main/Nemotron_4_Synthetic_data_generation_.ipynb\" target=\"_parent\"><img src=\"https://colab.research.google.com/assets/colab-badge.svg\" alt=\"Open In Colab\"/></a>"
      ]
    },
    {
      "cell_type": "code",
      "execution_count": 1,
      "metadata": {
        "colab": {
          "base_uri": "https://localhost:8080/"
        },
        "id": "OH8_maO_r6h4",
        "outputId": "51d3ae5c-7268-445b-8bd5-237418460f38"
      },
      "outputs": [
        {
          "output_type": "stream",
          "name": "stdout",
          "text": [
            "\u001b[31mERROR: Could not find a version that satisfies the requirement nemotron (from versions: none)\u001b[0m\u001b[31m\n",
            "\u001b[0m\u001b[31mERROR: No matching distribution found for nemotron\u001b[0m\u001b[31m\n",
            "\u001b[0m"
          ]
        }
      ],
      "source": [
        "pip install nemotron\n"
      ]
    },
    {
      "cell_type": "code",
      "source": [
        "from nemotron import NemoSchema, NemoField\n",
        "\n",
        "schema = NemoSchema(\n",
        "    name=\"EducationIndustryDataset\",\n",
        "    fields=[\n",
        "        NemoField(\"id\", \"integer\", unique=True),\n",
        "        NemoField(\"school_name\", \"string\", min_length=3, max_length=50),\n",
        "        NemoField(\"school_type\", \"categorical\", categories=[\"elementary school\", \"high school\", \"university\", \"vocational school\"]),\n",
        "        NemoField(\"location\", \"string\", min_length=3, max_length=50),\n",
        "        NemoField(\"enrollment\", \"integer\", min_value=100, max_value=10000),\n",
        "        NemoField(\"teacher_count\", \"integer\", min_value=10, max_value=500),\n",
        "        NemoField(\"student_teacher_ratio\", \"float\", min_value=10, max_value=50),\n",
        "        NemoField(\"graduation_rate\", \"float\", min_value=0, max_value=100),\n",
        "        NemoField(\"average_test_scores\", \"float\", min_value=0, max_value=100),\n",
        "        NemoField(\"extracurricular_activities\", \"list\", element_type=\"string\", min_length=1, max_length=10)\n",
        "    ]\n",
        ")\n"
      ],
      "metadata": {
        "id": "m8Uptlm8sQy3"
      },
      "execution_count": null,
      "outputs": []
    },
    {
      "cell_type": "code",
      "source": [
        "from nemotron import generate_dataset\n",
        "\n",
        "dataset = generate_dataset(schema, size=100000)\n"
      ],
      "metadata": {
        "id": "18jSX4oksQ1A"
      },
      "execution_count": null,
      "outputs": []
    },
    {
      "cell_type": "code",
      "source": [
        "import pandas as pd\n",
        "\n",
        "pd.DataFrame(dataset).to_csv(\"education_industry_dataset.csv\", index=False)\n"
      ],
      "metadata": {
        "id": "IUf2fLuhsETn"
      },
      "execution_count": null,
      "outputs": []
    },
    {
      "cell_type": "markdown",
      "source": [
        "By following these steps, you can generate a synthetic Education Industry Dataset with 100,000 unique records using Nemotron. You can customize the schema to fit your specific needs and generate datasets for other industries as well."
      ],
      "metadata": {
        "id": "e6b5LdGNsaiO"
      }
    }
  ]
}