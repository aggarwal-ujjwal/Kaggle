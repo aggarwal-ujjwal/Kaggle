{
  "nbformat": 4,
  "nbformat_minor": 0,
  "metadata": {
    "colab": {
      "provenance": [],
      "authorship_tag": "ABX9TyPvUB5dJFTshpca+ho9H8fX",
      "include_colab_link": true
    },
    "kernelspec": {
      "name": "python3",
      "display_name": "Python 3"
    },
    "language_info": {
      "name": "python"
    }
  },
  "cells": [
    {
      "cell_type": "markdown",
      "metadata": {
        "id": "view-in-github",
        "colab_type": "text"
      },
      "source": [
        "<a href=\"https://colab.research.google.com/github/aggarwal-ujjwal/Kaggle/blob/main/Dataset_1.ipynb\" target=\"_parent\"><img src=\"https://colab.research.google.com/assets/colab-badge.svg\" alt=\"Open In Colab\"/></a>"
      ]
    },
    {
      "cell_type": "code",
      "execution_count": 2,
      "metadata": {
        "colab": {
          "base_uri": "https://localhost:8080/"
        },
        "id": "vG_RsOATjNVX",
        "outputId": "121a17a9-6972-41c3-9fd6-1497377529f5"
      },
      "outputs": [
        {
          "output_type": "stream",
          "name": "stdout",
          "text": [
            "                                   title   price availability  \\\n",
            "0                   A Light in the Attic  £51.77     In stock   \n",
            "1                     Tipping the Velvet  £53.74     In stock   \n",
            "2                             Soumission  £50.10     In stock   \n",
            "3                          Sharp Objects  £47.82     In stock   \n",
            "4  Sapiens: A Brief History of Humankind  £54.23     In stock   \n",
            "\n",
            "                       title_transformed  \n",
            "0                   a light in the attic  \n",
            "1                     tipping the velvet  \n",
            "2                             soumission  \n",
            "3                          sharp objects  \n",
            "4  sapiens: a brief history of humankind  \n"
          ]
        }
      ],
      "source": [
        "import requests\n",
        "from bs4 import BeautifulSoup\n",
        "import pandas as pd\n",
        "\n",
        "# Function for transformation example\n",
        "def some_transformation(x):\n",
        "    return x.lower()  # Example transformation\n",
        "\n",
        "# Fetch the webpage\n",
        "url = 'https://books.toscrape.com/'\n",
        "response = requests.get(url)\n",
        "soup = BeautifulSoup(response.content, 'html.parser')\n",
        "\n",
        "# Extract data\n",
        "data = []\n",
        "books = soup.find_all('article', {'class': 'product_pod'})\n",
        "\n",
        "for book in books:\n",
        "    title = book.h3.a['title']\n",
        "    price = book.find('p', {'class': 'price_color'}).text\n",
        "    availability = book.find('p', {'class': 'instock availability'}).text.strip()\n",
        "    data.append({\n",
        "        'title': title,\n",
        "        'price': price,\n",
        "        'availability': availability,\n",
        "    })\n",
        "\n",
        "# Create a DataFrame\n",
        "df = pd.DataFrame(data)\n",
        "\n",
        "# Clean and transform data\n",
        "df.dropna(inplace=True)\n",
        "df.drop_duplicates(inplace=True)\n",
        "df['title_transformed'] = df['title'].apply(lambda x: some_transformation(x))\n",
        "\n",
        "# Save the cleaned data to a CSV file\n",
        "df.to_csv('final_dataset.csv', index=False)\n",
        "\n",
        "# Print first few rows to verify\n",
        "print(df.head())\n"
      ]
    },
    {
      "cell_type": "code",
      "source": [
        "!pip install faker"
      ],
      "metadata": {
        "colab": {
          "base_uri": "https://localhost:8080/"
        },
        "id": "IJVsAhTgBNYv",
        "outputId": "3a39f539-926c-497f-cbd2-f43cfb7af7e7"
      },
      "execution_count": 2,
      "outputs": [
        {
          "output_type": "stream",
          "name": "stdout",
          "text": [
            "Collecting faker\n",
            "  Downloading Faker-26.0.0-py3-none-any.whl (1.8 MB)\n",
            "\u001b[2K     \u001b[90m━━━━━━━━━━━━━━━━━━━━━━━━━━━━━━━━━━━━━━━━\u001b[0m \u001b[32m1.8/1.8 MB\u001b[0m \u001b[31m16.2 MB/s\u001b[0m eta \u001b[36m0:00:00\u001b[0m\n",
            "\u001b[?25hRequirement already satisfied: python-dateutil>=2.4 in /usr/local/lib/python3.10/dist-packages (from faker) (2.8.2)\n",
            "Requirement already satisfied: six>=1.5 in /usr/local/lib/python3.10/dist-packages (from python-dateutil>=2.4->faker) (1.16.0)\n",
            "Installing collected packages: faker\n",
            "Successfully installed faker-26.0.0\n"
          ]
        }
      ]
    },
    {
      "cell_type": "code",
      "source": [
        "import pandas as pd\n",
        "import numpy as np\n",
        "from faker import Faker\n",
        "\n",
        "# Initialize Faker\n",
        "faker = Faker()\n",
        "\n",
        "# Define lists of possible values for some of the features\n",
        "categories = ['Antibiotic', 'Analgesic', 'Antipyretic', 'Antiseptic', 'Antiviral', 'Antifungal', 'Antidepressant', 'Antidiabetic']\n",
        "dosage_forms = ['Tablet', 'Capsule', 'Injection', 'Syrup', 'Cream', 'Ointment', 'Drops', 'Inhaler']\n",
        "manufacturers = [\n",
        "    'Pfizer Inc.', 'Roche Holding AG', 'Novartis AG', 'Merck & Co., Inc.', 'Sanofi S.A.',\n",
        "    'GlaxoSmithKline plc', 'Johnson & Johnson', 'AbbVie Inc.', 'AstraZeneca plc', 'Bayer AG',\n",
        "    'Bristol-Myers Squibb Company', 'Amgen Inc.', 'Eli Lilly and Company', 'Novo Nordisk A/S',\n",
        "    'Takeda Pharmaceutical Company Limited', 'Boehringer Ingelheim GmbH', 'Teva Pharmaceutical Industries Ltd.',\n",
        "    'Gilead Sciences, Inc.', 'Biogen Inc.', 'CSL Limited'\n",
        "]\n",
        "indications = ['Infection', 'Pain', 'Fever', 'Wound', 'Virus', 'Fungus', 'Depression', 'Diabetes']\n",
        "classifications = ['Prescription', 'Over-the-Counter']\n",
        "\n",
        "# Lists for more realistic medicine name generation\n",
        "prefixes = ['Aceto', 'Cef', 'Dolo', 'Ibupro', 'Meto', 'Dextro', 'Amoxi', 'Clari']\n",
        "suffixes = ['mycin', 'cillin', 'profen', 'met', 'phen', 'nazole', 'vir', 'statin']\n",
        "\n",
        "# Function to generate a realistic medicine name\n",
        "def generate_medicine_name():\n",
        "    return f\"{np.random.choice(prefixes)}{np.random.choice(suffixes)}\"\n",
        "\n",
        "# Function to generate a single medicine data point\n",
        "def generate_medicine():\n",
        "    name = generate_medicine_name()\n",
        "    category = np.random.choice(categories)\n",
        "    dosage_form = np.random.choice(dosage_forms)\n",
        "    strength = f\"{np.random.randint(1, 1000)} mg\"\n",
        "    manufacturer = np.random.choice(manufacturers)\n",
        "    indication = np.random.choice(indications)\n",
        "    classification = np.random.choice(classifications)\n",
        "\n",
        "    return {\n",
        "        'Name': name,\n",
        "        'Category': category,\n",
        "        'Dosage Form': dosage_form,\n",
        "        'Strength': strength,\n",
        "        'Manufacturer': manufacturer,\n",
        "        'Indication': indication,\n",
        "        'Classification': classification\n",
        "    }\n",
        "\n",
        "# Generate 50,000 data points\n",
        "data = [generate_medicine() for _ in range(50000)]\n",
        "\n",
        "# Create DataFrame\n",
        "df = pd.DataFrame(data)\n",
        "\n",
        "# Save the data to a CSV file\n",
        "df.to_csv('synthetic_medicine_dataset.csv', index=False)\n",
        "\n",
        "# Print first few rows to verify\n",
        "print(df.head())\n"
      ],
      "metadata": {
        "colab": {
          "base_uri": "https://localhost:8080/"
        },
        "id": "0b6ierNi5l-G",
        "outputId": "918945cd-672d-4cf3-e311-a5afdf6df432"
      },
      "execution_count": 7,
      "outputs": [
        {
          "output_type": "stream",
          "name": "stdout",
          "text": [
            "           Name      Category Dosage Form Strength  \\\n",
            "0   Acetocillin  Antidiabetic       Cream   938 mg   \n",
            "1  Ibuprocillin     Antiviral   Injection   337 mg   \n",
            "2    Dextrophen    Antibiotic    Ointment   333 mg   \n",
            "3   Clarinazole    Antifungal       Syrup   362 mg   \n",
            "4   Amoxicillin    Antifungal      Tablet   802 mg   \n",
            "\n",
            "                          Manufacturer Indication    Classification  \n",
            "0                     Roche Holding AG      Virus  Over-the-Counter  \n",
            "1                          CSL Limited  Infection  Over-the-Counter  \n",
            "2                    Johnson & Johnson      Wound      Prescription  \n",
            "3                          AbbVie Inc.       Pain      Prescription  \n",
            "4  Teva Pharmaceutical Industries Ltd.      Wound  Over-the-Counter  \n"
          ]
        }
      ]
    },
    {
      "cell_type": "code",
      "source": [
        "# import matplotlib.pyplot as plt\n",
        "# from PIL import Image, ImageDraw, ImageFont\n",
        "\n",
        "# # Create a blank image with a white background\n",
        "# width, height = 1200, 675\n",
        "# image = Image.new('RGB', (width, height), color='white')\n",
        "# draw = ImageDraw.Draw(image)\n",
        "\n",
        "# # Load a font\n",
        "# font_path = \"/usr/share/fonts/truetype/dejavu/DejaVuSans-Bold.ttf\"  # Adjust the path to your font file\n",
        "# font_large = ImageFont.truetype(font_path, 60)\n",
        "# font_medium = ImageFont.truetype(font_path, 40)\n",
        "# font_small = ImageFont.truetype(font_path, 30)\n",
        "\n",
        "# # Add title text\n",
        "# title_text = \"Comprehensive Synthetic Dataset of Medicines\"\n",
        "# draw.text((50, 50), title_text, font=font_large, fill=\"black\")\n",
        "\n",
        "# # Add subtitle text\n",
        "# subtitle_text = \"Categorizing 50,000 Unique Entries for Modern Pharmaceutical Research\"\n",
        "# draw.text((50, 150), subtitle_text, font=font_medium, fill=\"gray\")\n",
        "\n",
        "# # Draw icons and visuals (simplified for example purposes)\n",
        "# draw.rectangle([(50, 300), (200, 450)], outline=\"blue\", width=5)\n",
        "# draw.rectangle([(250, 300), (400, 450)], outline=\"green\", width=5)\n",
        "# draw.rectangle([(450, 300), (600, 450)], outline=\"red\", width=5)\n",
        "# draw.rectangle([(650, 300), (800, 450)], outline=\"orange\", width=5)\n",
        "\n",
        "# # Add some sample text to represent data\n",
        "# sample_text = \"Example Medicine Data\"\n",
        "# draw.text((50, 500), sample_text, font=font_small, fill=\"black\")\n",
        "\n",
        "# # Save the image\n",
        "# image_path = \"dataset_image.png\"\n",
        "# image.save(image_path)\n",
        "\n",
        "# # Create a thumbnail\n",
        "# thumbnail_size = (300, 169)\n",
        "# thumbnail_path = \"dataset_thumbnail.png\"\n",
        "# image.thumbnail(thumbnail_size)\n",
        "# image.save(thumbnail_path)\n",
        "\n",
        "# print(f\"Image saved to {image_path}\")\n",
        "# print(f\"Thumbnail saved to {thumbnail_path}\")\n"
      ],
      "metadata": {
        "id": "gkOn2U1jBIqF"
      },
      "execution_count": 9,
      "outputs": []
    },
    {
      "cell_type": "code",
      "source": [],
      "metadata": {
        "id": "yvEAaRd7E90Z"
      },
      "execution_count": null,
      "outputs": []
    }
  ]
}